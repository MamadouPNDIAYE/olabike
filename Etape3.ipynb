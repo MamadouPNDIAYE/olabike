{
 "cells": [
  {
   "cell_type": "code",
   "execution_count": 1,
   "id": "2296b3ec",
   "metadata": {},
   "outputs": [],
   "source": [
    "import pandas as pd\n",
    "import numpy as np\n",
    "import matplotlib.pyplot as plt      \n",
    "import seaborn as sns\n",
    "from sklearn.cluster import KMeans\n",
    "from sklearn.svm import SVC\n",
    "from sklearn.metrics import confusion_matrix, classification_report\n",
    "from sklearn.model_selection import train_test_split\n",
    "import matplotlib.pyplot as plt\n",
    "import warnings\n",
    "%matplotlib inline\n",
    "warnings.filterwarnings('ignore')"
   ]
  },
  {
   "cell_type": "code",
   "execution_count": 2,
   "id": "dc980fa5",
   "metadata": {},
   "outputs": [],
   "source": [
    "data=pd.read_csv('hour.csv')"
   ]
  },
  {
   "cell_type": "code",
   "execution_count": 3,
   "id": "8d793142",
   "metadata": {},
   "outputs": [],
   "source": [
    "data.drop(['instant','dteday'],axis=1,inplace=True)"
   ]
  },
  {
   "cell_type": "code",
   "execution_count": 4,
   "id": "afcce738",
   "metadata": {},
   "outputs": [],
   "source": [
    "z = data.drop('workingday', axis=1)\n",
    "t = data['workingday']"
   ]
  },
  {
   "cell_type": "code",
   "execution_count": 5,
   "id": "d64ae610",
   "metadata": {},
   "outputs": [],
   "source": [
    "x_train, x_test, y_train, y_test = train_test_split(z, t, test_size = 0.20, random_state = 130)"
   ]
  },
  {
   "cell_type": "markdown",
   "id": "bc027cd5",
   "metadata": {},
   "source": [
    "# Kmean"
   ]
  },
  {
   "cell_type": "code",
   "execution_count": 6,
   "id": "6d546726",
   "metadata": {},
   "outputs": [],
   "source": [
    "kmeans = KMeans(n_clusters=5).fit(x_train, y_train)\n",
    "kpred = kmeans.predict(x_test)"
   ]
  },
  {
   "cell_type": "code",
   "execution_count": 7,
   "id": "9e245bff",
   "metadata": {},
   "outputs": [
    {
     "name": "stdout",
     "output_type": "stream",
     "text": [
      "----------------------Classification Report----------------------\n",
      "\n",
      "              precision    recall  f1-score   support\n",
      "\n",
      "           0       0.27      0.25      0.26      1041\n",
      "           1       0.99      0.04      0.07      2435\n",
      "           2       0.00      0.00      0.00         0\n",
      "           3       0.00      0.00      0.00         0\n",
      "           4       0.00      0.00      0.00         0\n",
      "\n",
      "    accuracy                           0.10      3476\n",
      "   macro avg       0.25      0.06      0.07      3476\n",
      "weighted avg       0.77      0.10      0.13      3476\n",
      "\n",
      "----------------------Confusion Matrix---------------------------\n",
      "\n"
     ]
    },
    {
     "data": {
      "image/png": "[encoded data removed]",
      "text/plain": [
       "<Figure size 500x300 with 2 Axes>"
      ]
     },
     "metadata": {},
     "output_type": "display_data"
    },
    {
     "name": "stdout",
     "output_type": "stream",
     "text": [
      "KMean score test_train -1751710803.2590427 -7203363969.00057\n"
     ]
    }
   ],
   "source": [
    "Ktrain = kmeans.score(x_train, y_train)*100\n",
    "Ktest = kmeans.score(x_test, y_test)*100\n",
    "Kconf = confusion_matrix(y_test,kpred)\n",
    "print(\"----------------------Classification Report----------------------\\n\")\n",
    "print(classification_report(y_test,kpred))\n",
    "print(\"----------------------Confusion Matrix---------------------------\\n\")\n",
    "plt.figure(figsize=(5,3))\n",
    "sns.heatmap(Kconf, annot=True,cmap=\"YlGnBu\",fmt='g')\n",
    "plt.show()\n",
    "print('KMean score test_train', Ktest, Ktrain)"
   ]
  },
  {
   "cell_type": "markdown",
   "id": "8503d57f",
   "metadata": {},
   "source": [
    "# SVM"
   ]
  },
  {
   "cell_type": "code",
   "execution_count": 8,
   "id": "39728e6c",
   "metadata": {},
   "outputs": [],
   "source": [
    "svm = SVC(kernel='linear')\n",
    "svm.fit(x_train, y_train)\n",
    "svmpred = svm.predict(x_test)"
   ]
  },
  {
   "cell_type": "code",
   "execution_count": 9,
   "id": "7842c9f4",
   "metadata": {},
   "outputs": [
    {
     "name": "stdout",
     "output_type": "stream",
     "text": [
      "----------------------Classification Report----------------------\n",
      "\n",
      "              precision    recall  f1-score   support\n",
      "\n",
      "           0       0.89      0.36      0.51      1041\n",
      "           1       0.78      0.98      0.87      2435\n",
      "\n",
      "    accuracy                           0.80      3476\n",
      "   macro avg       0.84      0.67      0.69      3476\n",
      "weighted avg       0.81      0.80      0.76      3476\n",
      "\n",
      "----------------------Confusion Matrix---------------------------\n",
      "\n"
     ]
    },
    {
     "data": {
      "image/png": "[encoded data removed]",
      "text/plain": [
       "<Figure size 500x300 with 2 Axes>"
      ]
     },
     "metadata": {},
     "output_type": "display_data"
    },
    {
     "name": "stdout",
     "output_type": "stream",
     "text": [
      "Support Vector Machine 79.51668584579977 78.0479033302165\n"
     ]
    }
   ],
   "source": [
    "svmtrain = svm.score(x_train, y_train)*100\n",
    "svmtest = svm.score(x_test, y_test)*100\n",
    "svmconf = confusion_matrix(y_test,svmpred)\n",
    "print(\"----------------------Classification Report----------------------\\n\")\n",
    "print(classification_report(y_test,svmpred))\n",
    "print(\"----------------------Confusion Matrix---------------------------\\n\")\n",
    "plt.figure(figsize=(5,3))\n",
    "sns.heatmap(svmconf, annot=True,cmap=\"YlGnBu\",fmt='g')\n",
    "plt.show()\n",
    "print('Support Vector Machine', svmtest, svmtrain)"
   ]
  },
  {
   "cell_type": "code",
   "execution_count": null,
   "id": "ea27a2ce",
   "metadata": {},
   "outputs": [],
   "source": []
  }
 ],
 "metadata": {
  "kernelspec": {
   "display_name": "Python 3 (ipykernel)",
   "language": "python",
   "name": "python3"
  },
  "language_info": {
   "codemirror_mode": {
    "name": "ipython",
    "version": 3
   },
   "file_extension": ".py",
   "mimetype": "text/x-python",
   "name": "python",
   "nbconvert_exporter": "python",
   "pygments_lexer": "ipython3",
   "version": "3.11.3"
  }
 },
 "nbformat": 4,
 "nbformat_minor": 5
}
