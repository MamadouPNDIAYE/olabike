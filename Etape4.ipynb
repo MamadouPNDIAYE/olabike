{
 "cells": [
  {
   "cell_type": "markdown",
   "id": "8970289b",
   "metadata": {},
   "source": [
    "les facteurs qui peuvent influer sur la demande de balades à vélo:\n",
    "*le gain de temps vu le nombre d'embouteillage des les villes concentré\n",
    "*la demande est frequente en periode de vacances "
   ]
  },
  {
   "cell_type": "markdown",
   "id": "d3dd798f",
   "metadata": {},
   "source": [
    "L'algorithme des svm est le modéle le plus adapter pour la demande de balade notre modéle de l'etape 3 donne les performances suivante"
   ]
  },
  {
   "cell_type": "markdown",
   "id": "f713efba",
   "metadata": {},
   "source": [
    "80% avce nos données de train et de test "
   ]
  },
  {
   "cell_type": "code",
   "execution_count": null,
   "id": "c92d84b0",
   "metadata": {},
   "outputs": [],
   "source": []
  }
 ],
 "metadata": {
  "kernelspec": {
   "display_name": "Python 3 (ipykernel)",
   "language": "python",
   "name": "python3"
  },
  "language_info": {
   "codemirror_mode": {
    "name": "ipython",
    "version": 3
   },
   "file_extension": ".py",
   "mimetype": "text/x-python",
   "name": "python",
   "nbconvert_exporter": "python",
   "pygments_lexer": "ipython3",
   "version": "3.11.3"
  }
 },
 "nbformat": 4,
 "nbformat_minor": 5
}
